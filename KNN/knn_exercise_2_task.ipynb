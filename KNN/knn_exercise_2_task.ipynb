{
 "cells": [
  {
   "cell_type": "markdown",
   "metadata": {},
   "source": [
    "# kNN from scratch!\n",
    "This will test your understanding of the kNN algorithm. You will implement the kNN algorithm from scratch and use it to classify an artificial dataset.\n",
    "It will also test your understanding of python programming. \n",
    "Use the class skeleton to implement the kNN algorithm and the test function to test your implementation.\n",
    "## 1.1. Implement two distance metrics\n",
    "## 1.1.1 Implement the manhattan distance as a function of two numpy arrays\n",
    "## 1.1.2 Implement the euclidean distance as a function of two numpy arrays\n",
    "## 1.2. Implement the kNN algorithm\n",
    "## Bonus: Implement the class in a way, so you can choose which of the two metrics to use\n",
    "\n"
   ]
  },
  {
   "cell_type": "code",
   "execution_count": 6,
   "metadata": {},
   "outputs": [
    {
     "name": "stdout",
     "output_type": "stream",
     "text": [
      "12\n",
      "7.0710678118654755\n"
     ]
    }
   ],
   "source": [
    "import numpy as np\n",
    "import math\n",
    "\n",
    "def manhattan_distance(x1, x2):\n",
    "    distance = 0\n",
    "    for i in range(len(x1)):\n",
    "        distance += abs(x1[i] - x2[i])\n",
    "    return distance\n",
    "\n",
    "print(manhattan_distance([1,2,3],[4,6,8])) # = 12\n",
    "\n",
    "def euclidean_distance(x1, x2):\n",
    "    distance = 0\n",
    "    for i in range(len(x1)):\n",
    "        distance = distance + (x1[i]-x2[i])*(x1[i]-x2[i])\n",
    "    euclidean = math.sqrt(distance)   \n",
    "    return euclidean\n",
    "\n",
    "print(euclidean_distance([1,2,3],[4,6,8])) # =approx 7,07\n",
    "\n",
    "#k=3 is chosen by prof. default value (if the user does not provide the value for k, it will be set as 3)\n",
    "class KNN:\n",
    "    def __init__(self, k=3):\n",
    "        self.k = k\n",
    "        #placeholders for the training data that will be provided later in fit \n",
    "        self.X_train = None\n",
    "        self.y_train = None\n",
    "\n",
    "    #fit function is used for training the model on some data. KNN is lazy learner so the fit method just stores the data \n",
    "    def fit(self, X, y):\n",
    "        self.X_train = np.array(X)\n",
    "        self.y_train = np.array(y)\n",
    "        \n",
    "\n",
    "    def predict(self, X_test):\n",
    "        U=[]\n",
    "        for x in X_test:\n",
    "            #self tells Python to look for _predict_single inside the current instance of the class. Without self, Python would assume _predict_single is a global function (outside the class)\n",
    "            label = self._predict_single(x)\n",
    "            U.append(label)\n",
    "        return U    \n",
    "\n",
    "\n",
    "    def _predict_single(self, x):\n",
    "        U =[]\n",
    "        for i, t in enumerate(self.X_train):\n",
    "            distance = euclidean_distance(x, t)\n",
    "            label = self.y_train[i]\n",
    "            U.append((distance, label))\n",
    "        U.sort(key=lambda x: x[0])  # Sort by distance\n",
    "        U = U[:self.k]  # Take the k-nearest neighbors\n",
    "        k_labels = [label for _, label in U]\n",
    "        return max(set(k_labels), key=k_labels.count)     \n",
    "        \n"
   ]
  },
  {
   "cell_type": "code",
   "execution_count": 7,
   "metadata": {},
   "outputs": [],
   "source": [
    "from sklearn.datasets import make_blobs\n",
    "from sklearn.model_selection import train_test_split\n",
    "from sklearn.metrics import accuracy_score"
   ]
  },
  {
   "cell_type": "code",
   "execution_count": 8,
   "metadata": {},
   "outputs": [],
   "source": [
    "X, y = make_blobs(n_samples=100, centers=2, n_features=2, cluster_std=1.60, random_state=0,)\n",
    "X_train, X_test, y_train, y_test = train_test_split(X, y, test_size=0.3)"
   ]
  },
  {
   "cell_type": "code",
   "execution_count": 9,
   "metadata": {},
   "outputs": [
    {
     "data": {
      "text/plain": [
       "0.9"
      ]
     },
     "execution_count": 9,
     "metadata": {},
     "output_type": "execute_result"
    }
   ],
   "source": [
    "knn = KNN(k=3)\n",
    "knn.fit(X_train, y_train)\n",
    "predictions = knn.predict(X_test)\n",
    "accuracy_score(y_test, predictions)"
   ]
  }
 ],
 "metadata": {
  "kernelspec": {
   "display_name": "Python 3",
   "language": "python",
   "name": "python3"
  },
  "language_info": {
   "codemirror_mode": {
    "name": "ipython",
    "version": 3
   },
   "file_extension": ".py",
   "mimetype": "text/x-python",
   "name": "python",
   "nbconvert_exporter": "python",
   "pygments_lexer": "ipython3",
   "version": "3.12.2"
  }
 },
 "nbformat": 4,
 "nbformat_minor": 2
}
